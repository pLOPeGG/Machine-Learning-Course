{
 "cells": [
  {
   "cell_type": "code",
   "execution_count": 4,
   "metadata": {
    "pycharm": {
     "metadata": false,
     "name": "#%%\n"
    }
   },
   "outputs": [],
   "source": [
    "import tensorflow as tf\n",
    "import numpy as np\n",
    "import matplotlib.pyplot as plt\n",
    "import sklearn\n",
    "\n",
    "mnist = tf.keras.datasets.mnist"
   ]
  },
  {
   "cell_type": "markdown",
   "metadata": {},
   "source": [
    "# Plan de Classification\n",
    "[ ] Intro Classification\n",
    "\n",
    "[x] Perceptron\n",
    "\n",
    "[ ] Multilayer\n",
    "\n",
    "[ ] Other models (SVM, Bayesian...)\n"
   ]
  },
  {
   "cell_type": "code",
   "execution_count": 22,
   "metadata": {},
   "outputs": [
    {
     "data": {
      "text/plain": [
       "<matplotlib.collections.PathCollection at 0x22b6913c0f0>"
      ]
     },
     "execution_count": 22,
     "metadata": {},
     "output_type": "execute_result"
    },
    {
     "data": {
      "image/png": "[encoded data removed]",
      "text/plain": [
       "<Figure size 432x288 with 1 Axes>"
      ]
     },
     "metadata": {
      "needs_background": "light"
     },
     "output_type": "display_data"
    }
   ],
   "source": [
    "# Creating some toy data\n",
    "\n",
    "centroids = np.array([[0, 0], [1, 1]])\n",
    "labels = np.array([0, 1])\n",
    "x = []\n",
    "y = []\n",
    "\n",
    "n = 100\n",
    "\n",
    "for p, l in zip(centroids, labels):\n",
    "    x.extend( np.concatenate((np.random.normal(p[0], 0.4, n//2), \n",
    "                              np.random.normal(p[1], 0.4, n//2))).reshape(2, n//2).T)\n",
    "    y.extend([l] * (n//2))\n",
    "    \n",
    "x = np.array(x)\n",
    "y = np.array(y)\n",
    "\n",
    "plt.scatter(x[..., 0], x[..., 1], c=['b' if l==0 else 'r' for l in y])"
   ]
  },
  {
   "cell_type": "markdown",
   "metadata": {},
   "source": [
    "## Perceptron\n",
    "\n",
    "Modèle très simple en 2 diemensions :\n",
    "![title](img/perceptron.png)\n",
    "\n",
    "* $x_1$ et $x_2$ les coordonnées d'un point\n",
    "* $w_1$, $w_2$ et $b$ les paramètres du modèle\n",
    "* $f$ est la fonction heaviside ($0$ si $x < 0$, $1$ sinon)\n",
    "* $y$ est la sortie du modèle pour l'entrée $\\textbf{x}$\n",
    "\n",
    "On utilise l'équation d'apprentissage suivante :\n",
    "$$\n",
    "\\theta^{n+1} = \\theta^n - \\eta\\nabla_\\theta E(y, t)\n",
    "$$\n",
    "\n",
    "Où $E$ désigne l'erreur commise par le modèle :\n",
    "$$\n",
    "E(y, t) = y - t\n",
    "$$\n"
   ]
  },
  {
   "cell_type": "code",
   "execution_count": null,
   "metadata": {},
   "outputs": [],
   "source": [
    "# Perceptron\n",
    "\"\"\"\n",
    "Ici on va tout coder de bout en bout pour un modèle simple.\n",
    "\"\"\""
   ]
  },
  {
   "cell_type": "code",
   "execution_count": 11,
   "metadata": {},
   "outputs": [
    {
     "name": "stdout",
     "output_type": "stream",
     "text": [
      "Epoch 1/5\n",
      "60000/60000 [==============================] - 13s 224us/step - loss: 0.2205 - acc: 0.9340\n",
      "Epoch 2/5\n",
      "60000/60000 [==============================] - 13s 210us/step - loss: 0.0975 - acc: 0.9706\n",
      "Epoch 3/5\n",
      "60000/60000 [==============================] - 14s 226us/step - loss: 0.0693 - acc: 0.9786\n",
      "Epoch 4/5\n",
      "60000/60000 [==============================] - 14s 226us/step - loss: 0.0530 - acc: 0.9825\n",
      "Epoch 5/5\n",
      "60000/60000 [==============================] - 14s 234us/step - loss: 0.0428 - acc: 0.9858\n",
      "10000/10000 [==============================] - 2s 171us/step\n"
     ]
    },
    {
     "data": {
      "text/plain": [
       "[0.06619428644063882, 0.9802]"
      ]
     },
     "execution_count": 11,
     "metadata": {},
     "output_type": "execute_result"
    }
   ],
   "source": [
    "(x_train, y_train),(x_test, y_test) = mnist.load_data()\n",
    "\n",
    "x_train, x_test = x_train / 255., x_test / 255.\n",
    "\n",
    "model = tf.keras.models.Sequential([\n",
    "  tf.keras.layers.Flatten(input_shape=(28, 28)),\n",
    "  tf.keras.layers.Dense(512, activation=tf.nn.relu),\n",
    "  tf.keras.layers.Dropout(0.2),\n",
    "  tf.keras.layers.Dense(10, activation=tf.nn.softmax)\n",
    "])\n",
    "model.compile(optimizer='adam',\n",
    "              loss='sparse_categorical_crossentropy',\n",
    "              metrics=['accuracy'])\n",
    "\n",
    "model.fit(x_train, y_train, epochs=5, batch_size=32)\n",
    "model.evaluate(x_test, y_test)"
   ]
  }
 ],
 "metadata": {
  "kernelspec": {
   "display_name": "Python 3",
   "language": "python",
   "name": "python3"
  },
  "language_info": {
   "codemirror_mode": {
    "name": "ipython",
    "version": 3
   },
   "file_extension": ".py",
   "mimetype": "text/x-python",
   "name": "python",
   "nbconvert_exporter": "python",
   "pygments_lexer": "ipython3",
   "version": "3.6.8"
  },
  "stem_cell": {
   "cell_type": "raw",
   "metadata": {
    "pycharm": {
     "metadata": false
    }
   },
   "source": ""
  }
 },
 "nbformat": 4,
 "nbformat_minor": 1
}
